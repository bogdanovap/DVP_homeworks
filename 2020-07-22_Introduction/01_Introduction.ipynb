{
 "cells": [
  {
   "cell_type": "code",
   "execution_count": 1,
   "metadata": {},
   "outputs": [],
   "source": [
    "import numpy as np\n",
    "import pandas as pd\n",
    "\n",
    "from sklearn.linear_model import LinearRegression\n",
    "from sklearn.metrics import mean_absolute_error"
   ]
  },
  {
   "cell_type": "markdown",
   "metadata": {},
   "source": [
    "Попробуем оценивать средний чек мини-магазина\n",
    "Начнем с создания датасета на 500 элементов, в котором будет 3 признака и однака зависимая переменная\n",
    "Зависимую переменную изначально рассчитаем близко к формату y=ax+b, в качестве x будем использовать отношение 2х признаков (можно другую операцию)"
   ]
  },
  {
   "cell_type": "code",
   "execution_count": 2,
   "metadata": {},
   "outputs": [],
   "source": [
    "# Создаём сэмпл\n",
    "n_samples = 500\n",
    "\n",
    "# количество посетитетелей\n",
    "visitors = np.random.choice(100, n_samples) + 100\n",
    "# средний чек\n",
    "profit = np.random.choice(150, n_samples) + 50\n",
    "# количество окон в помещении магазина\n",
    "windows = np.random.choice(5, n_samples) + 3\n",
    "\n",
    "# расчитываем целевое значение приближено к y = ax + b\n",
    "avg_check = (profit/visitors) * 100 + 50\n",
    "\n",
    "# создаем дата-фрейм с данными для расчетов\n",
    "data = pd.DataFrame({'visitors': visitors, 'avg_check': avg_check, 'windows': windows, 'profit': profit})\n",
    "# print(data.head(5))"
   ]
  },
  {
   "cell_type": "markdown",
   "metadata": {},
   "source": [
    "все операции тренировки, обучения и провери вынесем в функцию"
   ]
  },
  {
   "cell_type": "code",
   "execution_count": 3,
   "metadata": {},
   "outputs": [],
   "source": [
    "def relearn_and_predict(data, X_cols, y_col):\n",
    "    X = data[X_cols]\n",
    "    y = data[y_col]\n",
    "    # создаем регрессию и тренируем ее по всем данным \"как есть\"\n",
    "    reg = LinearRegression().fit(X, y)\n",
    "    print(f'Weights: {reg.coef_}')\n",
    "    print(f'Bias: {reg.intercept_:.4f}')\n",
    "\n",
    "    # чтобы оценить ошибки прогноза - рассчитываем прогнозы по переменным и сравниаем с целевым значением\n",
    "    pred_values = reg.predict(data[X_cols])\n",
    "    print(f'Error: {mean_absolute_error(pred_values, y):.4f}')\n",
    "    pass"
   ]
  },
  {
   "cell_type": "markdown",
   "metadata": {},
   "source": [
    "сначала попробуем рассчитать средний чек по всем признакам\n",
    "\n",
    "в результате видим значительную ошибку"
   ]
  },
  {
   "cell_type": "code",
   "execution_count": 4,
   "metadata": {},
   "outputs": [
    {
     "name": "stdout",
     "output_type": "stream",
     "text": [
      "Weights: [ 0.69413146 -0.58261146  0.37012064]\n",
      "Bias: 135.1887\n",
      "Error: 5.1558\n"
     ]
    }
   ],
   "source": [
    "# делим дата-фрейм и выделяем переменные и целевое значение\n",
    "X_cols = ['profit', 'visitors',  'windows']\n",
    "y_col = 'avg_check'\n",
    "\n",
    "relearn_and_predict(data, X_cols, y_col)\n"
   ]
  },
  {
   "cell_type": "markdown",
   "metadata": {},
   "source": [
    "попробуем исключить признак с наименьшим весом в полуенной модели - windows\n",
    "\n",
    "результат не улучшилился..."
   ]
  },
  {
   "cell_type": "code",
   "execution_count": 5,
   "metadata": {},
   "outputs": [
    {
     "name": "stdout",
     "output_type": "stream",
     "text": [
      "Weights: [ 0.69354206 -0.58258855]\n",
      "Bias: 137.1322\n",
      "Error: 5.1688\n"
     ]
    }
   ],
   "source": [
    "# делим дата-фрейм и выделяем переменные и целевое значение\n",
    "X_cols = ['profit', 'visitors']\n",
    "y_col = 'avg_check'\n",
    "\n",
    "relearn_and_predict(data, X_cols, y_col)"
   ]
  },
  {
   "cell_type": "markdown",
   "metadata": {},
   "source": [
    "создадим дополнительный признак, который будет рассчитан как отношение выручки к посетелям"
   ]
  },
  {
   "cell_type": "code",
   "execution_count": 6,
   "metadata": {},
   "outputs": [
    {
     "name": "stdout",
     "output_type": "stream",
     "text": [
      "Weights: [100.]\n",
      "Bias: 50.0000\n",
      "Error: 0.0000\n"
     ]
    }
   ],
   "source": [
    "# Создаем новый признак\n",
    "data['division'] = data['profit'] / data['visitors']\n",
    "# print(data.head(5))\n",
    "\n",
    "X_cols = ['division']\n",
    "y_col = 'avg_check'\n",
    "\n",
    "relearn_and_predict(data, X_cols, y_col)"
   ]
  },
  {
   "cell_type": "markdown",
   "metadata": {},
   "source": [
    "в результате модель точно определила значения коэфициента и смещения, которые были заданы при формировании дата-сета\n",
    "коэффициент a = 100\n",
    "коэффициент b = 50"
   ]
  }
 ],
 "metadata": {
  "kernelspec": {
   "display_name": "Python 3",
   "language": "python",
   "name": "python3"
  },
  "language_info": {
   "codemirror_mode": {
    "name": "ipython",
    "version": 3
   },
   "file_extension": ".py",
   "mimetype": "text/x-python",
   "name": "python",
   "nbconvert_exporter": "python",
   "pygments_lexer": "ipython3",
   "version": "3.8.1"
  }
 },
 "nbformat": 4,
 "nbformat_minor": 4
}
